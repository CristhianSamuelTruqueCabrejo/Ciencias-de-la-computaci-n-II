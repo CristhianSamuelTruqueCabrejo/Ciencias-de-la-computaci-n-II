{
 "cells": [
  {
   "cell_type": "code",
   "execution_count": 6,
   "id": "68d868df-3153-495f-b613-45ecd7f56eb0",
   "metadata": {},
   "outputs": [],
   "source": [
    "import matplotlib.pyplot as ptl\n",
    "import numpy as np"
   ]
  },
  {
   "cell_type": "code",
   "execution_count": 103,
   "id": "7ab8dd22-9f12-41c7-ab5a-b1817b8ed699",
   "metadata": {},
   "outputs": [
    {
     "data": {
      "text/plain": [
       "array([[0.4       , 0.625     , 0.2972973 , 0.35      , 0.58333333,\n",
       "        0.38461538, 0.25      , 0.5       , 0.14285714, 0.08333333],\n",
       "       [0.8       , 1.        , 0.56756757, 0.58214286, 0.91666667,\n",
       "        0.46153846, 0.25      , 0.        , 0.        , 0.75      ],\n",
       "       [0.46666667, 0.625     , 0.67567568, 0.74821429, 1.        ,\n",
       "        0.        , 0.        , 0.        , 0.42857143, 0.75      ],\n",
       "       [0.        , 0.25      , 0.        , 0.        , 0.        ,\n",
       "        0.76923077, 0.75      , 0.        , 0.71428571, 0.        ],\n",
       "       [0.4       , 0.5       , 0.08108108, 0.2875    , 0.        ,\n",
       "        0.46153846, 0.75      , 1.        , 1.        , 0.41666667],\n",
       "       [0.6       , 0.        , 0.81081081, 0.24107143, 0.5       ,\n",
       "        1.        , 0.75      , 0.        , 0.28571429, 0.66666667],\n",
       "       [0.        , 0.        , 0.24324324, 0.25      , 0.5       ,\n",
       "        0.30769231, 0.        , 0.5       , 0.28571429, 0.08333333],\n",
       "       [0.86666667, 0.5       , 1.        , 0.65178571, 0.91666667,\n",
       "        0.15384615, 0.25      , 0.        , 0.14285714, 1.        ],\n",
       "       [0.06666667, 0.        , 0.67567568, 1.        , 1.        ,\n",
       "        0.84615385, 1.        , 0.        , 0.14285714, 0.66666667],\n",
       "       [1.        , 0.875     , 0.91891892, 0.55357143, 0.91666667,\n",
       "        0.30769231, 0.25      , 0.        , 0.28571429, 0.5       ]])"
      ]
     },
     "execution_count": 103,
     "metadata": {},
     "output_type": "execute_result"
    }
   ],
   "source": [
    "partidos = np.array([\n",
    "    [15, 8, 48, 492, 87, 10, 1, 1, 1, 3],\n",
    "    [21, 11, 58, 622, 91, 11, 1, 0, 0, 11],\n",
    "    [16, 8, 62, 715, 92, 5, 0, 0, 3, 11],\n",
    "    [9, 5, 37, 296, 80, 15, 3, 0, 5, 2],\n",
    "    [15, 7, 40, 457, 80, 11, 3, 2, 7, 7],\n",
    "    [18, 3, 67, 431, 86, 18, 3, 0, 2, 10],\n",
    "    [9, 3, 46, 436, 86, 9, 0, 1, 2, 3],\n",
    "    [22, 7, 74, 661, 91, 7, 1, 0, 1, 14],\n",
    "    [10, 3, 62, 856, 92, 16, 4, 0, 1, 10],\n",
    "    [24, 10, 71, 606, 91, 9, 1, 0, 2, 8]\n",
    "                    ])\n",
    "\n",
    "partidos_normalizados = (partidos - partidos.min(axis= 0)) / (partidos.max(axis=0) - partidos.min(axis=0))\n",
    "\n",
    "\n",
    "clases = np.array ([1, 1, 1, 0, 0, 0, 0, 1, 0, 1])\n",
    "\n",
    "partidos.min(axis= 0)\n",
    "partidos_normalizados"
   ]
  },
  {
   "cell_type": "code",
   "execution_count": null,
   "id": "7a40384a-4642-4dbf-af2b-d3fbdf05c3ac",
   "metadata": {},
   "outputs": [],
   "source": [
    "def activacion(pesos, x, b):\n",
    "    z = pesos * x\n",
    "    if z.sum() + b > 0:\n",
    "        return 1\n",
    "    else:\n",
    "        return 0"
   ]
  },
  {
   "cell_type": "code",
   "execution_count": 119,
   "id": "5bd459be-9819-47b9-a3c2-df5760c1c0e0",
   "metadata": {},
   "outputs": [
    {
     "name": "stdout",
     "output_type": "stream",
     "text": [
      "6 6 6 5 5 3 3 2 2 1 1 2 1 2 1 1 2 1 1 2 1 2 1 1 2 1 2 1 1 2 1 1 2 1 2 1 1 2 1 2 1 1 2 1 2 1 1 2 1 1 2 1 2 1 1 2 1 2 1 1 2 1 2 1 1 2 1 1 2 1 2 1 0 0 0 0 0 0 0 0 0 0 0 0 0 0 0 0 0 0 0 0 0 0 0 0 0 0 0 0 0 0 0 0 0 0 0 0 0 0 0 0 0 0 0 0 0 0 0 0 0 0 0 0 0 0 0 0 0 0 0 0 0 0 0 0 0 0 0 0 0 0 0 0 0 0 0 0 0 0 0 0 0 0 0 0 0 0 0 0 0 0 0 0 0 0 0 0 0 0 0 0 0 0 0 0 0 0 0 0 0 0 0 0 0 0 0 0 0 0 0 0 0 0 0 0 0 0 0 0 0 0 0 0 0 0 0 0 0 0 0 0 0 0 0 0 0 0 0 0 0 0 0 0 0 0 0 0 0 0 0 0 0 0 0 0 0 0 0 0 0 0 0 0 0 0 0 0 0 0 0 0 0 0 0 0 0 0 0 0 0 0 0 0 0 0 0 0 0 0 0 0 0 0 0 0 0 0 0 0 0 0 0 0 0 0 0 0 0 0 0 0 0 0 0 0 0 0 0 0 0 0 0 0 0 0 0 0 0 0 0 0 0 0 0 0 0 0 0 0 0 0 0 0 0 0 0 0 0 0 0 0 0 0 0 0 0 0 0 0 0 0 0 0 0 0 0 0 0 0 0 0 0 0 0 0 0 0 0 0 0 0 0 0 0 0 0 0 0 0 0 0 0 0 0 0 0 0 0 0 0 0 0 0 0 0 0 0 0 0 0 0 0 0 0 0 0 0 0 0 0 0 0 0 0 0 0 0 0 0 0 0 0 0 0 0 0 0 0 0 0 0 0 0 0 0 0 0 0 0 0 0 0 0 0 0 0 0 0 0 0 0 0 0 0 0 0 0 0 0 0 0 0 0 0 0 0 0 0 0 0 0 0 0 0 0 0 0 0 0 0 0 0 0 0 0 0 0 0 0 0 0 0 0 0 0 0 0 0 0 0 0 0 0 0 0 0 0 0 0 0 0 0 0 0 0 0 0 0 0 0 0 0 0 0 0 0 0 0 0 0 0 0 0 0 0 0 0 0 0 0 0 0 0 0 0 0 0 0 0 0 0 0 0 0 0 0 0 0 0 0 0 0 0 0 0 0 0 0 0 0 0 0 0 0 0 0 0 0 0 0 0 0 0 0 0 0 0 0 0 0 0 0 0 0 0 0 0 0 0 0 0 0 0 0 0 0 0 0 0 0 0 0 0 0 0 0 0 0 0 0 0 0 0 0 0 0 0 0 0 0 0 0 0 0 0 0 0 0 0 0 0 0 0 0 0 0 0 0 0 0 0 0 0 0 0 0 0 0 0 0 0 0 0 0 0 0 0 0 0 0 0 0 0 0 0 0 0 0 0 0 0 0 0 0 0 0 0 0 0 0 0 0 0 0 0 0 0 0 0 0 0 0 0 0 0 0 0 0 0 0 0 0 0 0 0 0 0 0 0 0 0 0 0 0 0 0 0 0 0 0 0 0 0 0 0 0 0 0 0 0 0 0 0 0 0 0 0 0 0 0 0 0 0 0 0 0 0 0 0 0 0 0 0 0 0 0 0 0 0 0 0 0 0 0 0 0 0 0 0 0 0 0 0 0 0 0 0 0 0 0 0 0 0 0 0 0 0 0 0 0 0 0 0 0 0 0 0 0 0 0 0 0 0 0 0 0 0 0 0 0 0 0 0 0 0 0 0 0 0 0 0 0 0 0 0 0 0 0 0 0 0 0 0 0 0 0 0 0 0 0 0 0 0 0 0 0 0 0 0 0 0 0 0 0 0 0 0 0 0 0 0 0 0 0 0 0 0 0 0 0 0 0 0 0 0 0 0 0 0 0 0 0 0 0 0 0 0 0 0 0 0 0 0 0 0 0 0 0 0 0 0 0 0 0 0 0 0 0 0 0 0 0 0 0 0 0 0 0 0 0 0 0 0 0 0 0 0 0 0 0 0 0 0 0 0 0 0 0 0 0 0 0 0 0 0 0 0 0 0 0 0 0 0 0 0 0 0 0 0 0 0 0 0 0 0 0 0 0 0 0 0 0 0 0 0 0 0 0 0 0 0 0 0 0 0 0 0 0 0 0 0 0 0 0 0 0 0 0 0 "
     ]
    },
    {
     "data": {
      "text/plain": [
       "1"
      ]
     },
     "execution_count": 119,
     "metadata": {},
     "output_type": "execute_result"
    }
   ],
   "source": [
    "def activacion(pesos, x, b):\n",
    "    z = pesos * x\n",
    "    if z.sum() + b > 0:\n",
    "        return 1\n",
    "    else:\n",
    "        return 0\n",
    "        \n",
    "pesos = np.random.uniform(-1, 1, size=10)\n",
    "b = np.random.uniform(-1, 1)\n",
    "tasa_de_aprendizaje = 0.01\n",
    "epocas = 1000\n",
    "\n",
    "for epoca in range(epocas):\n",
    "    error_total = 0\n",
    "    for i in range(len(partidos_normalizados)):\n",
    "        prediccion = activacion(pesos, partidos_normalizados[i], b)\n",
    "        error = clases[i] - prediccion\n",
    "        error_total += error**2\n",
    "        pesos[0] += tasa_de_aprendizaje * partidos_normalizados[i][0] * error\n",
    "        pesos[1] += tasa_de_aprendizaje * partidos_normalizados[i][1] * error\n",
    "        pesos[2] += tasa_de_aprendizaje * partidos_normalizados[i][2] * error\n",
    "        pesos[3] += tasa_de_aprendizaje * partidos_normalizados[i][3] * error\n",
    "        pesos[4] += tasa_de_aprendizaje * partidos_normalizados[i][4] * error\n",
    "        pesos[5] += tasa_de_aprendizaje * partidos_normalizados[i][5] * error\n",
    "        pesos[6] += tasa_de_aprendizaje * partidos_normalizados[i][6] * error\n",
    "        pesos[7] += tasa_de_aprendizaje * partidos_normalizados[i][7] * error\n",
    "        pesos[8] += tasa_de_aprendizaje * partidos_normalizados[i][8] * error\n",
    "        pesos[9] += tasa_de_aprendizaje * partidos_normalizados[i][9] * error\n",
    "        b += tasa_de_aprendizaje * error \n",
    "    print(error_total, end=\" \")\n",
    "\n",
    "activacion(pesos, [0, 0, 0, 0, 0, 0, 0, 0, 0, 0], b)"
   ]
  },
  {
   "cell_type": "code",
   "execution_count": null,
   "id": "b1db5afe-83c0-4a60-94af-0357fbe8dd89",
   "metadata": {},
   "outputs": [],
   "source": []
  },
  {
   "cell_type": "code",
   "execution_count": null,
   "id": "e58c567b-5cda-4642-b492-394fbfbe95b5",
   "metadata": {},
   "outputs": [],
   "source": []
  },
  {
   "cell_type": "code",
   "execution_count": null,
   "id": "0254bc03-0ca5-4b12-b048-5c21f1311e8b",
   "metadata": {},
   "outputs": [],
   "source": []
  }
 ],
 "metadata": {
  "kernelspec": {
   "display_name": "Python 3 (ipykernel)",
   "language": "python",
   "name": "python3"
  },
  "language_info": {
   "codemirror_mode": {
    "name": "ipython",
    "version": 3
   },
   "file_extension": ".py",
   "mimetype": "text/x-python",
   "name": "python",
   "nbconvert_exporter": "python",
   "pygments_lexer": "ipython3",
   "version": "3.13.5"
  }
 },
 "nbformat": 4,
 "nbformat_minor": 5
}
