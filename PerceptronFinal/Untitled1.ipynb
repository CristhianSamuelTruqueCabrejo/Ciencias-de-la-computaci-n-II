{
 "cells": [
  {
   "cell_type": "code",
   "execution_count": 1,
   "id": "dbc3dc9b-3b6e-4527-a579-e1eae5d6c505",
   "metadata": {},
   "outputs": [],
   "source": [
    "import matplotlib.pyplot as ptl\n",
    "import numpy as np"
   ]
  },
  {
   "cell_type": "code",
   "execution_count": 2,
   "id": "781da80b-3fc9-40a6-9f59-9da3d3f80d98",
   "metadata": {},
   "outputs": [
    {
     "data": {
      "text/plain": [
       "array([[0.55      , 1.        , 0.79166667, 0.66666667],\n",
       "       [0.85      , 0.83928571, 1.        , 1.        ],\n",
       "       [0.4       , 0.82142857, 0.54166667, 0.66666667],\n",
       "       [0.3       , 0.66071429, 0.41666667, 0.33333333],\n",
       "       [1.        , 0.10714286, 0.25      , 0.33333333],\n",
       "       [0.5       , 0.82142857, 0.70833333, 0.33333333],\n",
       "       [0.35      , 0.58928571, 0.5       , 0.33333333],\n",
       "       [0.3       , 0.71428571, 0.41666667, 0.66666667],\n",
       "       [0.75      , 0.71428571, 0.79166667, 1.        ],\n",
       "       [0.5       , 0.        , 0.25      , 0.66666667],\n",
       "       [0.        , 0.39285714, 0.125     , 0.        ],\n",
       "       [0.7       , 0.30357143, 0.25      , 0.        ],\n",
       "       [0.45      , 0.25      , 0.04166667, 0.        ],\n",
       "       [0.1       , 0.125     , 0.        , 0.        ]])"
      ]
     },
     "execution_count": 2,
     "metadata": {},
     "output_type": "execute_result"
    }
   ],
   "source": [
    "jugadores = np.array([\n",
    "    [51,61,21,2],\n",
    "    [57,52,26,3],\n",
    "    [48,51,15,2],\n",
    "    [46,42,12,1],\n",
    "    [60,11,8,1],\n",
    "    [50,51,19,1],\n",
    "    [47,38,14,1],\n",
    "    [46,45,12,2],\n",
    "    [55,45,21,3],\n",
    "    [50,5,8,2],\n",
    "    [40,27,5,0],\n",
    "    [54,22,8,0],\n",
    "    [49,19,3,0],\n",
    "    [42,12,2,0]\n",
    "])\n",
    "\n",
    "clases = np.array([1,1,1,1,1,1,1,1,1,1,0,0,0,0])\n",
    "\n",
    "jugadores_normalizados = (jugadores - jugadores.min(axis= 0)) / (jugadores.max(axis=0) - jugadores.min(axis=0))\n",
    "\n",
    "jugadores_normalizados"
   ]
  },
  {
   "cell_type": "code",
   "execution_count": 18,
   "id": "cffc75b4-ef79-423d-8b1e-18aef7877cec",
   "metadata": {},
   "outputs": [
    {
     "name": "stdout",
     "output_type": "stream",
     "text": [
      "5 4 3 2 2 2 2 2 2 2 2 3 3 2 2 2 2 2 2 2 2 2 2 2 2 2 2 2 2 0 0 0 0 0 0 0 0 0 0 0 0 0 0 0 0 0 0 0 0 0 0 0 0 0 0 0 0 0 0 0 0 0 0 0 0 0 0 0 0 0 0 0 0 0 0 0 0 0 0 0 0 0 0 0 0 0 0 0 0 0 0 0 0 0 0 0 0 0 0 0 "
     ]
    },
    {
     "data": {
      "text/plain": [
       "0"
      ]
     },
     "execution_count": 18,
     "metadata": {},
     "output_type": "execute_result"
    }
   ],
   "source": [
    "def activacion(pesos, x, b):\n",
    "    z = pesos * x\n",
    "    if z.sum() + b > 0:\n",
    "        return 1\n",
    "    else:\n",
    "        return 0\n",
    "\n",
    "pesos = np.random.uniform(-1, 1, size=4)\n",
    "b = np.random.uniform(-1, 1)\n",
    "tasa_de_aprendizaje = 0.01\n",
    "epocas = 100\n",
    "\n",
    "for epoca in range(epocas):\n",
    "    error_total = 0\n",
    "    for i in range(len(jugadores_normalizados)):\n",
    "        prediccion = activacion(pesos, jugadores_normalizados[i], b)\n",
    "        error = clases[i] - prediccion\n",
    "        error_total += error**2\n",
    "        pesos[0] += tasa_de_aprendizaje * jugadores_normalizados[i][0] * error\n",
    "        pesos[1] += tasa_de_aprendizaje * jugadores_normalizados[i][1] * error\n",
    "        pesos[2] += tasa_de_aprendizaje * jugadores_normalizados[i][2] * error\n",
    "        pesos[3] += tasa_de_aprendizaje * jugadores_normalizados[i][3] * error\n",
    "\n",
    "        b += tasa_de_aprendizaje * error \n",
    "    print(error_total, end=\" \")\n",
    "\n",
    "activacion(pesos, [3,0,0,0], b)"
   ]
  },
  {
   "cell_type": "code",
   "execution_count": null,
   "id": "cae869d6-7550-4be7-9a1f-99abcfe475fb",
   "metadata": {},
   "outputs": [],
   "source": []
  }
 ],
 "metadata": {
  "kernelspec": {
   "display_name": "Python 3 (ipykernel)",
   "language": "python",
   "name": "python3"
  },
  "language_info": {
   "codemirror_mode": {
    "name": "ipython",
    "version": 3
   },
   "file_extension": ".py",
   "mimetype": "text/x-python",
   "name": "python",
   "nbconvert_exporter": "python",
   "pygments_lexer": "ipython3",
   "version": "3.13.5"
  }
 },
 "nbformat": 4,
 "nbformat_minor": 5
}
